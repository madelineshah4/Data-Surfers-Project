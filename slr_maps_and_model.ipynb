{
 "cells": [
  {
   "cell_type": "code",
   "execution_count": 1,
   "metadata": {},
   "outputs": [],
   "source": [
    "\n",
    "%matplotlib inline\n",
    "import matplotlib.pyplot as plt\n",
    "import numpy as np\n",
    "import pandas as pd\n",
    "#import netCDF4\n",
    "import plotly.graph_objects as go\n",
    "import plotly.express as pex\n",
    "import plotly.figure_factory as ff\n",
    "import plotly.io as pio\n",
    "from IPython.display import display\n",
    "import pickle as pk\n",
    "import geopandas\n",
    "import geoplot\n",
    "from shapely import wkt"
   ]
  },
  {
   "cell_type": "code",
   "execution_count": 2,
   "metadata": {},
   "outputs": [],
   "source": [
    "#initializing data\n",
    "ny_counties = pd.read_csv(\"/Users/nicholasbattin/Downloads/SLR Data Science Folder/slr-data-surfers-main/ELEVATION_20240402.csv\")\n",
    "ny_counties[\"the_geom\"] = ny_counties[\"the_geom\"].apply(wkt.loads)\n",
    "ny_counties = geopandas.GeoDataFrame(ny_counties, geometry=\"the_geom\")"
   ]
  },
  {
   "cell_type": "code",
   "execution_count": null,
   "metadata": {},
   "outputs": [],
   "source": [
    "ny_counties.head()"
   ]
  },
  {
   "cell_type": "code",
   "execution_count": 3,
   "metadata": {},
   "outputs": [],
   "source": [
    "ny_counties.drop([\"FEAT_CODE\", \"SOURCE_ID\", \"SUB_CODE\", \"STATUS\"], axis=1, inplace=True)"
   ]
  },
  {
   "cell_type": "code",
   "execution_count": 4,
   "metadata": {},
   "outputs": [],
   "source": [
    "ny_counties['lon'] = ny_counties.the_geom.x\n",
    "ny_counties['lat'] = ny_counties.the_geom.y\n",
    "ny_counties.head()\n",
    "ny_counties.to_csv(\"modified_ny_counties.csv\")"
   ]
  },
  {
   "cell_type": "code",
   "execution_count": 7,
   "metadata": {},
   "outputs": [],
   "source": [
    "def elevationMap(counties):\n",
    "    ax = plt.axes(projection=\"3d\")\n",
    "    x = counties[\"lon\"].to_numpy()\n",
    "    y = counties[\"lat\"].to_numpy()\n",
    "    X, Y = np.meshgrid(x, y)\n",
    "    ax.plot(X, Y)\n",
    "    plt.show()\n",
    "    return ax"
   ]
  },
  {
   "cell_type": "code",
   "execution_count": 8,
   "metadata": {},
   "outputs": [
    {
     "ename": "",
     "evalue": "",
     "output_type": "error",
     "traceback": [
      "\u001b[1;31mThe Kernel crashed while executing code in the current cell or a previous cell. \n",
      "\u001b[1;31mPlease review the code in the cell(s) to identify a possible cause of the failure. \n",
      "\u001b[1;31mClick <a href='https://aka.ms/vscodeJupyterKernelCrash'>here</a> for more info. \n",
      "\u001b[1;31mView Jupyter <a href='command:jupyter.viewOutput'>log</a> for further details."
     ]
    }
   ],
   "source": [
    "elevationMap(ny_counties)"
   ]
  },
  {
   "cell_type": "code",
   "execution_count": null,
   "metadata": {},
   "outputs": [],
   "source": [
    "def projectSurface(surface, counties):\n",
    "    z = counties[\"ELEVATION\"].to_numpy()\n",
    "    "
   ]
  },
  {
   "cell_type": "code",
   "execution_count": null,
   "metadata": {},
   "outputs": [],
   "source": [
    "filename = 'slr_all_us_11_21.pkl'\n",
    "\n",
    "def pk_to_pd(path):\n",
    "    with open(path, 'rb') as f:\n",
    "        data = pk.load(f)\n",
    "    time = data['time']\n",
    "    latitude = data['latitude']\n",
    "    longitude = data['longitude']\n",
    "    adt = data['adt']\n",
    "\n",
    "    # Since your dataset likely represents a 2D grid of points over multiple times, \n",
    "    # we'll need to repeat the time array to match the number of latitude and longitude points\n",
    "    time_repeated = np.repeat(time, latitude.size * longitude.size)\n",
    "\n",
    "    # Create a meshgrid for latitude and longitude, then flatten them for the DataFrame\n",
    "    lon, lat = np.meshgrid(longitude, latitude)\n",
    "    lon_flat = lon.flatten()\n",
    "    lat_flat = lat.flatten()\n",
    "\n",
    "    # Repeat latitude and longitude coordinates for each time step\n",
    "    lat_repeated = np.tile(lat_flat, len(time))\n",
    "    lon_repeated = np.tile(lon_flat, len(time))\n",
    "\n",
    "    adt_flat = adt.flatten().data  # Or another method to match DataFrame's structure\n",
    "\n",
    "    # Now combine everything into a DataFrame\n",
    "    df = pd.DataFrame({\n",
    "        'Time': time_repeated,\n",
    "        'Latitude': lat_repeated,\n",
    "        'Longitude': lon_repeated, \n",
    "        'adt': adt_flat,\n",
    "    })\n",
    "    return df\n",
    "\n",
    "df = pk_to_pd(filename)"
   ]
  },
  {
   "cell_type": "code",
   "execution_count": null,
   "metadata": {},
   "outputs": [],
   "source": [
    "def transform(df: pd.DataFrame, year: int, n_days=1)-> pd.DataFrame:\n",
    "    df = df[(df['Latitude'] > 40.2) & (df['Latitude'] < 45)] #latitude range of nyc\n",
    "\n",
    "    df = df[(df['Longitude'] > -79) & (df['Longitude'] < -71)] #longitude range of nyc\n",
    "    \n",
    "    df[\"Time\"] = pd.to_datetime(df[\"Time\"]) #converting time to datetime\n",
    "    \n",
    "    df = df[(df['adt'] > -2.147484e+07)] #values above minimum\n",
    "    \n",
    "    df = df.loc[df['Time'].dt.year == year] #comment out if doing whole data\n",
    "\n",
    "    df['Rate_of_Change'] = df.groupby(['Latitude', 'Longitude'])['adt'].diff(periods=n_days) #rate of change in adt\n",
    "\n",
    "    df = df.groupby(['Latitude', 'Longitude']).apply(lambda x: x.iloc[n_days-1::n_days]).reset_index(drop=True)\n",
    "    df.fillna(0, inplace=True)\n",
    "\n",
    "    return df\n",
    "\n",
    "yearly_df = transform(df, 2015)\n",
    "yearly_df.shape"
   ]
  },
  {
   "cell_type": "code",
   "execution_count": null,
   "metadata": {},
   "outputs": [],
   "source": [
    "def ny_county_map(slr_df):\n",
    "    ax = plt.axes(projection=\"3d\")\n",
    "    \n",
    "map = ny_county_map(yearly_df)\n",
    "map"
   ]
  }
 ],
 "metadata": {
  "kernelspec": {
   "display_name": "cmems_env_py3.9",
   "language": "python",
   "name": "python3"
  },
  "language_info": {
   "codemirror_mode": {
    "name": "ipython",
    "version": 3
   },
   "file_extension": ".py",
   "mimetype": "text/x-python",
   "name": "python",
   "nbconvert_exporter": "python",
   "pygments_lexer": "ipython3",
   "version": "3.9.18"
  }
 },
 "nbformat": 4,
 "nbformat_minor": 2
}
